{
 "cells": [
  {
   "cell_type": "markdown",
   "metadata": {},
   "source": [
    "## Observations and Insights"
   ]
  },
  {
   "cell_type": "markdown",
   "metadata": {},
   "source": []
  },
  {
   "cell_type": "markdown",
   "metadata": {},
   "source": [
    "## Dependencies and starter code"
   ]
  },
  {
   "cell_type": "code",
   "execution_count": 51,
   "metadata": {},
   "outputs": [
    {
     "data": {
      "text/html": [
       "<div>\n",
       "<style scoped>\n",
       "    .dataframe tbody tr th:only-of-type {\n",
       "        vertical-align: middle;\n",
       "    }\n",
       "\n",
       "    .dataframe tbody tr th {\n",
       "        vertical-align: top;\n",
       "    }\n",
       "\n",
       "    .dataframe thead th {\n",
       "        text-align: right;\n",
       "    }\n",
       "</style>\n",
       "<table border=\"1\" class=\"dataframe\">\n",
       "  <thead>\n",
       "    <tr style=\"text-align: right;\">\n",
       "      <th></th>\n",
       "      <th>Mouse ID</th>\n",
       "      <th>Drug Regimen</th>\n",
       "      <th>Sex</th>\n",
       "      <th>Age_months</th>\n",
       "      <th>Weight (g)</th>\n",
       "      <th>Timepoint</th>\n",
       "      <th>Tumor Volume (mm3)</th>\n",
       "      <th>Metastatic Sites</th>\n",
       "    </tr>\n",
       "  </thead>\n",
       "  <tbody>\n",
       "    <tr>\n",
       "      <td>0</td>\n",
       "      <td>k403</td>\n",
       "      <td>Ramicane</td>\n",
       "      <td>Male</td>\n",
       "      <td>21</td>\n",
       "      <td>16</td>\n",
       "      <td>0</td>\n",
       "      <td>45.000000</td>\n",
       "      <td>0</td>\n",
       "    </tr>\n",
       "    <tr>\n",
       "      <td>1</td>\n",
       "      <td>k403</td>\n",
       "      <td>Ramicane</td>\n",
       "      <td>Male</td>\n",
       "      <td>21</td>\n",
       "      <td>16</td>\n",
       "      <td>5</td>\n",
       "      <td>38.825898</td>\n",
       "      <td>0</td>\n",
       "    </tr>\n",
       "    <tr>\n",
       "      <td>2</td>\n",
       "      <td>k403</td>\n",
       "      <td>Ramicane</td>\n",
       "      <td>Male</td>\n",
       "      <td>21</td>\n",
       "      <td>16</td>\n",
       "      <td>10</td>\n",
       "      <td>35.014271</td>\n",
       "      <td>1</td>\n",
       "    </tr>\n",
       "    <tr>\n",
       "      <td>3</td>\n",
       "      <td>k403</td>\n",
       "      <td>Ramicane</td>\n",
       "      <td>Male</td>\n",
       "      <td>21</td>\n",
       "      <td>16</td>\n",
       "      <td>15</td>\n",
       "      <td>34.223992</td>\n",
       "      <td>1</td>\n",
       "    </tr>\n",
       "    <tr>\n",
       "      <td>4</td>\n",
       "      <td>k403</td>\n",
       "      <td>Ramicane</td>\n",
       "      <td>Male</td>\n",
       "      <td>21</td>\n",
       "      <td>16</td>\n",
       "      <td>20</td>\n",
       "      <td>32.997729</td>\n",
       "      <td>1</td>\n",
       "    </tr>\n",
       "    <tr>\n",
       "      <td>...</td>\n",
       "      <td>...</td>\n",
       "      <td>...</td>\n",
       "      <td>...</td>\n",
       "      <td>...</td>\n",
       "      <td>...</td>\n",
       "      <td>...</td>\n",
       "      <td>...</td>\n",
       "      <td>...</td>\n",
       "    </tr>\n",
       "    <tr>\n",
       "      <td>1888</td>\n",
       "      <td>z969</td>\n",
       "      <td>Naftisol</td>\n",
       "      <td>Male</td>\n",
       "      <td>9</td>\n",
       "      <td>30</td>\n",
       "      <td>25</td>\n",
       "      <td>63.145652</td>\n",
       "      <td>2</td>\n",
       "    </tr>\n",
       "    <tr>\n",
       "      <td>1889</td>\n",
       "      <td>z969</td>\n",
       "      <td>Naftisol</td>\n",
       "      <td>Male</td>\n",
       "      <td>9</td>\n",
       "      <td>30</td>\n",
       "      <td>30</td>\n",
       "      <td>65.841013</td>\n",
       "      <td>3</td>\n",
       "    </tr>\n",
       "    <tr>\n",
       "      <td>1890</td>\n",
       "      <td>z969</td>\n",
       "      <td>Naftisol</td>\n",
       "      <td>Male</td>\n",
       "      <td>9</td>\n",
       "      <td>30</td>\n",
       "      <td>35</td>\n",
       "      <td>69.176246</td>\n",
       "      <td>4</td>\n",
       "    </tr>\n",
       "    <tr>\n",
       "      <td>1891</td>\n",
       "      <td>z969</td>\n",
       "      <td>Naftisol</td>\n",
       "      <td>Male</td>\n",
       "      <td>9</td>\n",
       "      <td>30</td>\n",
       "      <td>40</td>\n",
       "      <td>70.314904</td>\n",
       "      <td>4</td>\n",
       "    </tr>\n",
       "    <tr>\n",
       "      <td>1892</td>\n",
       "      <td>z969</td>\n",
       "      <td>Naftisol</td>\n",
       "      <td>Male</td>\n",
       "      <td>9</td>\n",
       "      <td>30</td>\n",
       "      <td>45</td>\n",
       "      <td>73.867845</td>\n",
       "      <td>4</td>\n",
       "    </tr>\n",
       "  </tbody>\n",
       "</table>\n",
       "<p>1893 rows × 8 columns</p>\n",
       "</div>"
      ],
      "text/plain": [
       "     Mouse ID Drug Regimen   Sex  Age_months  Weight (g)  Timepoint  \\\n",
       "0        k403     Ramicane  Male          21          16          0   \n",
       "1        k403     Ramicane  Male          21          16          5   \n",
       "2        k403     Ramicane  Male          21          16         10   \n",
       "3        k403     Ramicane  Male          21          16         15   \n",
       "4        k403     Ramicane  Male          21          16         20   \n",
       "...       ...          ...   ...         ...         ...        ...   \n",
       "1888     z969     Naftisol  Male           9          30         25   \n",
       "1889     z969     Naftisol  Male           9          30         30   \n",
       "1890     z969     Naftisol  Male           9          30         35   \n",
       "1891     z969     Naftisol  Male           9          30         40   \n",
       "1892     z969     Naftisol  Male           9          30         45   \n",
       "\n",
       "      Tumor Volume (mm3)  Metastatic Sites  \n",
       "0              45.000000                 0  \n",
       "1              38.825898                 0  \n",
       "2              35.014271                 1  \n",
       "3              34.223992                 1  \n",
       "4              32.997729                 1  \n",
       "...                  ...               ...  \n",
       "1888           63.145652                 2  \n",
       "1889           65.841013                 3  \n",
       "1890           69.176246                 4  \n",
       "1891           70.314904                 4  \n",
       "1892           73.867845                 4  \n",
       "\n",
       "[1893 rows x 8 columns]"
      ]
     },
     "execution_count": 51,
     "metadata": {},
     "output_type": "execute_result"
    }
   ],
   "source": [
    "# Dependencies and Setup\n",
    "import matplotlib.pyplot as plt\n",
    "import pandas as pd\n",
    "import scipy.stats as st\n",
    "from scipy.stats import linregress\n",
    "import numpy as np\n",
    "from scipy import stats\n",
    "\n",
    "\n",
    "# Study data files\n",
    "mouse_metadata = \"data/Mouse_metadata.csv\"\n",
    "study_results = \"data/Study_results.csv\"\n",
    "\n",
    "# Read the mouse data and the study results\n",
    "mouse_metadata = pd.read_csv(mouse_metadata)\n",
    "study_results = pd.read_csv(study_results)\n",
    "\n",
    "mouse_metadata.head()\n",
    "study_results.head()\n",
    "\n",
    "# Combine the data into a single dataset\n",
    "merged_data=pd.merge(mouse_metadata, study_results, how=\"inner\", on=\"Mouse ID\")\n",
    "merged_data"
   ]
  },
  {
   "cell_type": "markdown",
   "metadata": {},
   "source": [
    "## Summary statistics"
   ]
  },
  {
   "cell_type": "code",
   "execution_count": 52,
   "metadata": {},
   "outputs": [
    {
     "data": {
      "text/html": [
       "<div>\n",
       "<style scoped>\n",
       "    .dataframe tbody tr th:only-of-type {\n",
       "        vertical-align: middle;\n",
       "    }\n",
       "\n",
       "    .dataframe tbody tr th {\n",
       "        vertical-align: top;\n",
       "    }\n",
       "\n",
       "    .dataframe thead th {\n",
       "        text-align: right;\n",
       "    }\n",
       "</style>\n",
       "<table border=\"1\" class=\"dataframe\">\n",
       "  <thead>\n",
       "    <tr style=\"text-align: right;\">\n",
       "      <th></th>\n",
       "      <th>Mean Tumor Volume</th>\n",
       "      <th>Median Tumor Volume</th>\n",
       "      <th>Tumor Volume Variance</th>\n",
       "      <th>Tumor Volume Standard Deviation</th>\n",
       "      <th>Tumor Volume SEM</th>\n",
       "    </tr>\n",
       "    <tr>\n",
       "      <th>Drug Regimen</th>\n",
       "      <th></th>\n",
       "      <th></th>\n",
       "      <th></th>\n",
       "      <th></th>\n",
       "      <th></th>\n",
       "    </tr>\n",
       "  </thead>\n",
       "  <tbody>\n",
       "    <tr>\n",
       "      <td>Capomulin</td>\n",
       "      <td>40.68</td>\n",
       "      <td>41.56</td>\n",
       "      <td>24.95</td>\n",
       "      <td>4.99</td>\n",
       "      <td>0.33</td>\n",
       "    </tr>\n",
       "    <tr>\n",
       "      <td>Ceftamin</td>\n",
       "      <td>52.59</td>\n",
       "      <td>51.78</td>\n",
       "      <td>39.29</td>\n",
       "      <td>6.27</td>\n",
       "      <td>0.47</td>\n",
       "    </tr>\n",
       "    <tr>\n",
       "      <td>Infubinol</td>\n",
       "      <td>52.88</td>\n",
       "      <td>51.82</td>\n",
       "      <td>43.13</td>\n",
       "      <td>6.57</td>\n",
       "      <td>0.49</td>\n",
       "    </tr>\n",
       "    <tr>\n",
       "      <td>Ketapril</td>\n",
       "      <td>55.24</td>\n",
       "      <td>53.70</td>\n",
       "      <td>68.55</td>\n",
       "      <td>8.28</td>\n",
       "      <td>0.60</td>\n",
       "    </tr>\n",
       "    <tr>\n",
       "      <td>Naftisol</td>\n",
       "      <td>54.33</td>\n",
       "      <td>52.51</td>\n",
       "      <td>66.17</td>\n",
       "      <td>8.13</td>\n",
       "      <td>0.60</td>\n",
       "    </tr>\n",
       "    <tr>\n",
       "      <td>Placebo</td>\n",
       "      <td>54.03</td>\n",
       "      <td>52.29</td>\n",
       "      <td>61.17</td>\n",
       "      <td>7.82</td>\n",
       "      <td>0.58</td>\n",
       "    </tr>\n",
       "    <tr>\n",
       "      <td>Propriva</td>\n",
       "      <td>52.32</td>\n",
       "      <td>50.85</td>\n",
       "      <td>42.35</td>\n",
       "      <td>6.51</td>\n",
       "      <td>0.51</td>\n",
       "    </tr>\n",
       "    <tr>\n",
       "      <td>Ramicane</td>\n",
       "      <td>40.22</td>\n",
       "      <td>40.67</td>\n",
       "      <td>23.49</td>\n",
       "      <td>4.85</td>\n",
       "      <td>0.32</td>\n",
       "    </tr>\n",
       "    <tr>\n",
       "      <td>Stelasyn</td>\n",
       "      <td>54.23</td>\n",
       "      <td>52.43</td>\n",
       "      <td>59.45</td>\n",
       "      <td>7.71</td>\n",
       "      <td>0.57</td>\n",
       "    </tr>\n",
       "    <tr>\n",
       "      <td>Zoniferol</td>\n",
       "      <td>53.24</td>\n",
       "      <td>51.82</td>\n",
       "      <td>48.53</td>\n",
       "      <td>6.97</td>\n",
       "      <td>0.52</td>\n",
       "    </tr>\n",
       "  </tbody>\n",
       "</table>\n",
       "</div>"
      ],
      "text/plain": [
       "              Mean Tumor Volume  Median Tumor Volume  Tumor Volume Variance  \\\n",
       "Drug Regimen                                                                  \n",
       "Capomulin                 40.68                41.56                  24.95   \n",
       "Ceftamin                  52.59                51.78                  39.29   \n",
       "Infubinol                 52.88                51.82                  43.13   \n",
       "Ketapril                  55.24                53.70                  68.55   \n",
       "Naftisol                  54.33                52.51                  66.17   \n",
       "Placebo                   54.03                52.29                  61.17   \n",
       "Propriva                  52.32                50.85                  42.35   \n",
       "Ramicane                  40.22                40.67                  23.49   \n",
       "Stelasyn                  54.23                52.43                  59.45   \n",
       "Zoniferol                 53.24                51.82                  48.53   \n",
       "\n",
       "              Tumor Volume Standard Deviation  Tumor Volume SEM  \n",
       "Drug Regimen                                                     \n",
       "Capomulin                                4.99              0.33  \n",
       "Ceftamin                                 6.27              0.47  \n",
       "Infubinol                                6.57              0.49  \n",
       "Ketapril                                 8.28              0.60  \n",
       "Naftisol                                 8.13              0.60  \n",
       "Placebo                                  7.82              0.58  \n",
       "Propriva                                 6.51              0.51  \n",
       "Ramicane                                 4.85              0.32  \n",
       "Stelasyn                                 7.71              0.57  \n",
       "Zoniferol                                6.97              0.52  "
      ]
     },
     "execution_count": 52,
     "metadata": {},
     "output_type": "execute_result"
    }
   ],
   "source": [
    "# Generate a summary statistics table of mean, median, variance, standard deviation, and SEM of the tumor volume for each drug regimen\n",
    "#Complete calcuations for mean, median, variance, standard deviation, and SEM\n",
    "mean_tumor_volume=merged_data.groupby(['Drug Regimen']).mean()['Tumor Volume (mm3)']\n",
    "mean_tumor_volume\n",
    "    \n",
    "tumor_median=merged_data.groupby(['Drug Regimen']).median()['Tumor Volume (mm3)']\n",
    "tumor_median\n",
    "\n",
    "tumor_var=merged_data.groupby(['Drug Regimen']).var()['Tumor Volume (mm3)']\n",
    "tumor_var\n",
    "\n",
    "tumor_std=merged_data.groupby(['Drug Regimen']).std()['Tumor Volume (mm3)']\n",
    "tumor_std\n",
    "\n",
    "tumor_sem=merged_data.groupby(['Drug Regimen']).sem()['Tumor Volume (mm3)']\n",
    "tumor_sem\n",
    "\n",
    "tumor_volume_df=pd.DataFrame({'Mean Tumor Volume': mean_tumor_volume, 'Median Tumor Volume': tumor_median, 'Tumor Volume Variance': tumor_var, 'Tumor Volume Standard Deviation':tumor_std, 'Tumor Volume SEM': tumor_sem})\n",
    "tumor_volume_df.round(2)"
   ]
  },
  {
   "cell_type": "markdown",
   "metadata": {},
   "source": [
    "## Bar plots"
   ]
  },
  {
   "cell_type": "code",
   "execution_count": 53,
   "metadata": {},
   "outputs": [
    {
     "data": {
      "image/png": "[encoded data removed]",
      "text/plain": [
       "<Figure size 720x360 with 1 Axes>"
      ]
     },
     "metadata": {
      "needs_background": "light"
     },
     "output_type": "display_data"
    }
   ],
   "source": [
    "# Generate a bar plot showing number of data points for each treatment regimen using pyplot\n",
    "#Create variable for drug regimen count grouped\n",
    "grouped_drug=merged_data.groupby(['Drug Regimen'])\n",
    "grouped_drug\n",
    "\n",
    "grouped_drug_count=grouped_drug['Drug Regimen'].count()\n",
    "grouped_drug_count\n",
    "#print(grouped_drug_count)\n",
    "\n",
    "drug_x_label=merged_data.loc[:,['Drug Regimen']]\n",
    "#print(drug_x_label)\n",
    "\n",
    "drug_name_unique=drug_x_label['Drug Regimen'].unique()\n",
    "#print(drug_name_unique)\n",
    "\n",
    "#Set x axis and tick locations\n",
    "x_axis = np.arange(len(grouped_drug_count))\n",
    "tick_locations = [value+0.4 for value in x_axis]\n",
    "\n",
    "# Create a list indicating where to write x labels and set figure size to adjust for space\n",
    "plt.figure(figsize=(10,5))\n",
    "plt.bar(x_axis, grouped_drug_count, color='purple', alpha=0.5, align=\"edge\")\n",
    "plt.xticks(tick_locations, drug_name_unique, rotation=\"vertical\")\n",
    "\n",
    "# Set x and y limits\n",
    "plt.xlim(-0.25, len(x_axis))\n",
    "plt.ylim(0, max(grouped_drug_count)+10)\n",
    "\n",
    "# Set a Title and labels\n",
    "plt.title(\"Number of Times Each Drug Regimen is Used\")\n",
    "plt.xlabel(\"Drug Regimen\")\n",
    "plt.ylabel(\"Number of Uses\")\n",
    "\n",
    "# Show the graph\n",
    "plt.tight_layout()\n",
    "plt.show()"
   ]
  },
  {
   "cell_type": "code",
   "execution_count": 54,
   "metadata": {
    "scrolled": false
   },
   "outputs": [
    {
     "data": {
      "image/png": "[encoded data removed]",
      "text/plain": [
       "<Figure size 864x360 with 1 Axes>"
      ]
     },
     "metadata": {
      "needs_background": "light"
     },
     "output_type": "display_data"
    }
   ],
   "source": [
    "# Generate a bar plot showing number of data points for each treatment regimen using pandas\n",
    "# Filter the DataFrame down only to those columns to chart\n",
    "grouped_drug=merged_data.groupby(['Drug Regimen'])\n",
    "grouped_drug_count=grouped_drug['Drug Regimen'].count()\n",
    "drug_x_label=merged_data.loc[:,['Drug Regimen']]\n",
    "drug_name_unique=drug_x_label['Drug Regimen'].unique()\n",
    "\n",
    "#Create a DataFrame down only to those columns to chart\n",
    "drug_regimen_df =pd.DataFrame({'Drug Regimen': drug_name_unique, 'Count': grouped_drug_count})\n",
    "drug_regimen_df\n",
    "\n",
    "# Use DataFrame.plot() in order to create a bar chart of the data\n",
    "drug_regimen_df.plot(kind=\"bar\", color='purple', figsize=(12,5))\n",
    "\n",
    "# Set a title for the chart\n",
    "plt.title(\"Number of Times Each Drug Regimen is Used\")\n",
    "plt.show()\n"
   ]
  },
  {
   "cell_type": "markdown",
   "metadata": {},
   "source": [
    "## Pie plots"
   ]
  },
  {
   "cell_type": "code",
   "execution_count": 55,
   "metadata": {
    "scrolled": false
   },
   "outputs": [
    {
     "name": "stdout",
     "output_type": "stream",
     "text": [
      "Sex\n",
      "Female    935\n",
      "Male      958\n",
      "Name: Sex, dtype: int64\n",
      "There are 935 female mice and 958 male mice\n"
     ]
    },
    {
     "data": {
      "image/png": "[encoded data removed]",
      "text/plain": [
       "<Figure size 360x360 with 1 Axes>"
      ]
     },
     "metadata": {},
     "output_type": "display_data"
    }
   ],
   "source": [
    "# Generate a pie plot showing the distribution of female versus male mice using pandas\n",
    "#Create variable for the female mice\n",
    "mice_gender=merged_data.groupby(['Sex'])\n",
    "mice_gender_count=mice_gender['Sex'].count()\n",
    "print(mice_gender_count)\n",
    "male_mice=mice_gender_count['Male']\n",
    "male_mice\n",
    "female_mice=mice_gender_count['Female']\n",
    "print(f'There are {female_mice} female mice and {male_mice} male mice')\n",
    "\n",
    "mice_gender_pie=mice_gender_count.plot(kind=\"pie\", title=('Mice Genders'),figsize=(5, 5), autopct='%1.1f%%',startangle=30)\n",
    "mice_gender_pie.set_ylabel(\"Sex\")\n",
    "plt.tight_layout()\n",
    "plt.axis(\"equal\")\n",
    "plt.show()"
   ]
  },
  {
   "cell_type": "code",
   "execution_count": 56,
   "metadata": {},
   "outputs": [
    {
     "name": "stderr",
     "output_type": "stream",
     "text": [
      "/Users/juliedundas/opt/anaconda3/lib/python3.7/site-packages/ipykernel_launcher.py:9: MatplotlibDeprecationWarning: Non-1D inputs to pie() are currently squeeze()d, but this behavior is deprecated since 3.1 and will be removed in 3.3; pass a 1D array instead.\n",
      "  if __name__ == '__main__':\n"
     ]
    },
    {
     "data": {
      "image/png": "[encoded data removed]",
      "text/plain": [
       "<Figure size 432x288 with 1 Axes>"
      ]
     },
     "metadata": {},
     "output_type": "display_data"
    }
   ],
   "source": [
    "# Generate a pie plot showing the distribution of female versus male mice using pyplot\n",
    "\n",
    "\n",
    "gender_df = pd.DataFrame({'Female': female_mice, 'Male':male_mice},index = [0])\n",
    "gender_df\n",
    "\n",
    "genders=['Female', 'Male']\n",
    "\n",
    "plt.pie(gender_df, labels=genders, autopct=\"%1.1f%%\", shadow=True, startangle=30)\n",
    "plt.title('Mice Genders')\n",
    "\n",
    "# Create axes which are equal so we have a perfect circle\n",
    "plt.axis(\"equal\")\n",
    "plt.show()"
   ]
  },
  {
   "cell_type": "markdown",
   "metadata": {},
   "source": [
    "## Quartiles, outliers and boxplots"
   ]
  },
  {
   "cell_type": "code",
   "execution_count": 57,
   "metadata": {},
   "outputs": [
    {
     "name": "stdout",
     "output_type": "stream",
     "text": [
      "              count   mean   std    min    25%    50%    75%    max\n",
      "Drug Regimen                                                       \n",
      "Capomulin     230.0  40.68  4.99  23.34  37.69  41.56  45.00  48.16\n",
      "Ceftamin      178.0  52.59  6.27  45.00  47.21  51.78  56.80  68.92\n",
      "Infubinol     178.0  52.88  6.57  36.32  47.31  51.82  57.31  72.23\n",
      "Ketapril      188.0  55.24  8.28  45.00  48.23  53.70  60.87  78.57\n",
      "Naftisol      186.0  54.33  8.13  45.00  47.29  52.51  59.96  76.67\n",
      "Placebo       181.0  54.03  7.82  45.00  47.46  52.29  59.92  73.21\n",
      "Propriva      161.0  52.32  6.51  45.00  47.08  50.85  56.18  72.46\n",
      "Ramicane      228.0  40.22  4.85  22.05  36.67  40.67  45.00  47.62\n",
      "Stelasyn      181.0  54.23  7.71  45.00  48.05  52.43  58.72  75.12\n",
      "Zoniferol     182.0  53.24  6.97  45.00  47.34  51.82  57.95  73.32\n",
      "Drug Regimen\n",
      "Capomulin     7.314067\n",
      "Ceftamin      9.593010\n",
      "Infubinol    10.002091\n",
      "Ketapril     12.637964\n",
      "Naftisol     12.677160\n",
      "Placebo      12.457882\n",
      "Propriva      9.103578\n",
      "Ramicane      8.325365\n",
      "Stelasyn     10.672158\n",
      "Zoniferol    10.616383\n",
      "dtype: float64\n"
     ]
    }
   ],
   "source": [
    "# Calculate the final tumor volume of each mouse across four of the most promising treatment regimens. Calculate the IQR and quantitatively determine if there are any potential outliers.\n",
    "stats_dataframe= merged_data.groupby(['Drug Regimen']).describe()['Tumor Volume (mm3)']\n",
    "print(stats_dataframe.round(2))\n",
    "\n",
    "\n",
    "IQR = stats_dataframe['75%'] - stats_dataframe['25%']\n",
    "print(IQR)"
   ]
  },
  {
   "cell_type": "code",
   "execution_count": 58,
   "metadata": {},
   "outputs": [
    {
     "data": {
      "text/html": [
       "<div>\n",
       "<style scoped>\n",
       "    .dataframe tbody tr th:only-of-type {\n",
       "        vertical-align: middle;\n",
       "    }\n",
       "\n",
       "    .dataframe tbody tr th {\n",
       "        vertical-align: top;\n",
       "    }\n",
       "\n",
       "    .dataframe thead th {\n",
       "        text-align: right;\n",
       "    }\n",
       "</style>\n",
       "<table border=\"1\" class=\"dataframe\">\n",
       "  <thead>\n",
       "    <tr style=\"text-align: right;\">\n",
       "      <th></th>\n",
       "      <th>Mouse ID_x</th>\n",
       "      <th>Tumor Volume (mm3)</th>\n",
       "      <th>Mouse ID_y</th>\n",
       "      <th>Drug Regimen</th>\n",
       "      <th>Sex</th>\n",
       "      <th>Age_months</th>\n",
       "      <th>Weight (g)</th>\n",
       "      <th>Timepoint</th>\n",
       "      <th>Metastatic Sites</th>\n",
       "    </tr>\n",
       "  </thead>\n",
       "  <tbody>\n",
       "    <tr>\n",
       "      <td>0</td>\n",
       "      <td>a203</td>\n",
       "      <td>67.973419</td>\n",
       "      <td>a203</td>\n",
       "      <td>Infubinol</td>\n",
       "      <td>Female</td>\n",
       "      <td>20</td>\n",
       "      <td>23</td>\n",
       "      <td>45</td>\n",
       "      <td>2</td>\n",
       "    </tr>\n",
       "    <tr>\n",
       "      <td>1</td>\n",
       "      <td>a251</td>\n",
       "      <td>65.525743</td>\n",
       "      <td>a251</td>\n",
       "      <td>Infubinol</td>\n",
       "      <td>Female</td>\n",
       "      <td>21</td>\n",
       "      <td>25</td>\n",
       "      <td>45</td>\n",
       "      <td>1</td>\n",
       "    </tr>\n",
       "    <tr>\n",
       "      <td>2</td>\n",
       "      <td>a262</td>\n",
       "      <td>70.717621</td>\n",
       "      <td>a262</td>\n",
       "      <td>Placebo</td>\n",
       "      <td>Female</td>\n",
       "      <td>17</td>\n",
       "      <td>29</td>\n",
       "      <td>45</td>\n",
       "      <td>4</td>\n",
       "    </tr>\n",
       "    <tr>\n",
       "      <td>3</td>\n",
       "      <td>a275</td>\n",
       "      <td>62.999356</td>\n",
       "      <td>a275</td>\n",
       "      <td>Ceftamin</td>\n",
       "      <td>Female</td>\n",
       "      <td>20</td>\n",
       "      <td>28</td>\n",
       "      <td>45</td>\n",
       "      <td>3</td>\n",
       "    </tr>\n",
       "    <tr>\n",
       "      <td>4</td>\n",
       "      <td>a366</td>\n",
       "      <td>63.440686</td>\n",
       "      <td>a366</td>\n",
       "      <td>Stelasyn</td>\n",
       "      <td>Female</td>\n",
       "      <td>16</td>\n",
       "      <td>29</td>\n",
       "      <td>30</td>\n",
       "      <td>1</td>\n",
       "    </tr>\n",
       "  </tbody>\n",
       "</table>\n",
       "</div>"
      ],
      "text/plain": [
       "  Mouse ID_x  Tumor Volume (mm3) Mouse ID_y Drug Regimen     Sex  Age_months  \\\n",
       "0       a203           67.973419       a203    Infubinol  Female          20   \n",
       "1       a251           65.525743       a251    Infubinol  Female          21   \n",
       "2       a262           70.717621       a262      Placebo  Female          17   \n",
       "3       a275           62.999356       a275     Ceftamin  Female          20   \n",
       "4       a366           63.440686       a366     Stelasyn  Female          16   \n",
       "\n",
       "   Weight (g)  Timepoint  Metastatic Sites  \n",
       "0          23         45                 2  \n",
       "1          25         45                 1  \n",
       "2          29         45                 4  \n",
       "3          28         45                 3  \n",
       "4          29         30                 1  "
      ]
     },
     "execution_count": 58,
     "metadata": {},
     "output_type": "execute_result"
    }
   ],
   "source": [
    "# Generate  data frame in order to create a box plot of the final tumor volume of each mouse across four regimens of interest\n",
    "final_tumor_volume=merged_data.groupby(['Mouse ID']).max()['Tumor Volume (mm3)']\n",
    "final_tumor_volume\n",
    "\n",
    "reset_index=final_tumor_volume.reset_index()\n",
    "reset_index\n",
    "\n",
    "merged_tumor_data=pd.merge(reset_index, merged_data, how=\"left\", on='Tumor Volume (mm3)')\n",
    "merged_tumor_data.head()"
   ]
  },
  {
   "cell_type": "code",
   "execution_count": 59,
   "metadata": {},
   "outputs": [
    {
     "data": {
      "image/png": "[encoded data removed]",
      "text/plain": [
       "<Figure size 432x288 with 1 Axes>"
      ]
     },
     "metadata": {
      "needs_background": "light"
     },
     "output_type": "display_data"
    }
   ],
   "source": [
    "# Generate a box plot of the final tumor volume of each mouse across four regimens of interest\n",
    "infubinol_all = merged_data[(merged_data[\"Drug Regimen\"] == 'Infubinol')]\n",
    "infubinol_volumes = infubinol_all['Tumor Volume (mm3)']\n",
    "infubinol_volumes\n",
    "\n",
    "placebo_all=merged_data[(merged_data[\"Drug Regimen\"] == 'Placebo')]\n",
    "placebo_volumes=placebo_all['Tumor Volume (mm3)']\n",
    "placebo_volumes\n",
    "\n",
    "\n",
    "ceftamin_all=merged_data[(merged_data[\"Drug Regimen\"] == 'Ceftamin')]\n",
    "ceftamin_volumes=placebo_all['Tumor Volume (mm3)']\n",
    "ceftamin_volumes\n",
    "\n",
    "stelasyn_all=merged_data[(merged_data[\"Drug Regimen\"] == 'Stelasyn')]\n",
    "stelasyn_volumes=stelasyn_all['Tumor Volume (mm3)']\n",
    "stelasyn_volumes\n",
    "\n",
    "\n",
    "boxplot_data=[infubinol_volumes,placebo_volumes,ceftamin_volumes,stelasyn_volumes]\n",
    "\n",
    "fig1, ax1 = plt.subplots()\n",
    "ax1.set_title('Final Tumor Volumes Across Four Regimens of Interest')\n",
    "ax1.set_ylabel('Final Tumor Volume (mm3)')\n",
    "ax1.set_xlabel('Drugs')\n",
    "ax1.set_xticklabels(['Infubinol', 'Placebo', 'Ceftamin', 'Stelasyn'])\n",
    "ax1.boxplot(boxplot_data)\n",
    "plt.show()"
   ]
  },
  {
   "cell_type": "markdown",
   "metadata": {},
   "source": [
    "## Line and scatter plots"
   ]
  },
  {
   "cell_type": "code",
   "execution_count": 60,
   "metadata": {},
   "outputs": [
    {
     "data": {
      "text/plain": [
       "[Text(0, 0.5, 'Tumor Volume (mm3)')]"
      ]
     },
     "execution_count": 60,
     "metadata": {},
     "output_type": "execute_result"
    },
    {
     "data": {
      "image/png": "[encoded data removed]",
      "text/plain": [
       "<Figure size 432x288 with 1 Axes>"
      ]
     },
     "metadata": {
      "needs_background": "light"
     },
     "output_type": "display_data"
    }
   ],
   "source": [
    "# Generate a line plot of time point versus tumor volume for a mouse treated with Capomulin\n",
    "mouse_i557 = merged_data[(merged_data[\"Mouse ID\"] == 'i557')]\n",
    "mouse_i557\n",
    "\n",
    "mouse_i557_filtered = mouse_i557[[\"Timepoint\", \"Tumor Volume (mm3)\"]]\n",
    "mouse_i557_filtered\n",
    "\n",
    "mouse_i557_indexed = mouse_i557_filtered.set_index(['Timepoint'])\n",
    "mouse_i557_indexed\n",
    "\n",
    "lines = mouse_i557_indexed.plot.line(title='Capomulin Treatment of Mouse i557')\n",
    "lines.set(ylabel='Tumor Volume (mm3)')"
   ]
  },
  {
   "cell_type": "code",
   "execution_count": 61,
   "metadata": {},
   "outputs": [
    {
     "data": {
      "image/png": "[encoded data removed]",
      "text/plain": [
       "<Figure size 432x288 with 1 Axes>"
      ]
     },
     "metadata": {
      "needs_background": "light"
     },
     "output_type": "display_data"
    }
   ],
   "source": [
    "# Generate a scatter plot of mouse weight versus average tumor volume for the Capomulin regimen\n",
    "capomulin_data = merged_data[(merged_data[\"Drug Regimen\"] == 'Capomulin')]\n",
    "capomulin_data\n",
    "capomulin_weight_tum = capomulin_data[[\"Weight (g)\", \"Tumor Volume (mm3)\"]]\n",
    "capomulin_weight_tum\n",
    "avg_tumor = capomulin_weight_tum.groupby([\"Weight (g)\"])\n",
    "\n",
    "volume_mean = avg_tumor[\"Tumor Volume (mm3)\"].mean()\n",
    "weight_max = avg_tumor[\"Weight (g)\"].max()\n",
    "\n",
    "weight_tumor_df=pd.DataFrame({'Weight': weight_max, 'Volume': volume_mean})\n",
    "weight_tumor_df\n",
    "\n",
    "ax = weight_tumor_df.plot.scatter(title='Mouse Weight Vs Average Tumor Volume - Capomulin', x='Weight', y='Volume')\n",
    "\n",
    "#weight = capomulin_weight_tum['Weight (g)']\n",
    "#tumor_vol = capomulin_weight_tum['Tumor Volume (mm3)']\n",
    "#plt.scatter(weight, tumor_vol)\n",
    "#plt.xlabel(\"Weight (g)\")\n",
    "#plt.ylabel(\"Average Tumor Volume (mm3)\")\n",
    "#plt.title('Mouse Weight vs Average Tumor Volume')\n",
    "#plt.show()"
   ]
  },
  {
   "cell_type": "code",
   "execution_count": 71,
   "metadata": {},
   "outputs": [
    {
     "name": "stdout",
     "output_type": "stream",
     "text": [
      "The correlation between both factors is 0.95\n"
     ]
    },
    {
     "data": {
      "image/png": "[encoded data removed]",
      "text/plain": [
       "<Figure size 432x288 with 1 Axes>"
      ]
     },
     "metadata": {
      "needs_background": "light"
     },
     "output_type": "display_data"
    }
   ],
   "source": [
    "# Calculate the correlation coefficient and linear regression model for mouse weight \n",
    "#and average tumor volume for the Capomulin regimen\n",
    "capomulin_data = merged_data[(merged_data[\"Drug Regimen\"] == 'Capomulin')]\n",
    "capomulin_data\n",
    "capomulin_weight_tum = capomulin_data[[\"Weight (g)\", \"Tumor Volume (mm3)\"]]\n",
    "capomulin_weight_tum\n",
    "avg_tumor = capomulin_weight_tum.groupby([\"Weight (g)\"])\n",
    "\n",
    "volume_mean = avg_tumor[\"Tumor Volume (mm3)\"].mean()\n",
    "weight_max = avg_tumor[\"Weight (g)\"].max()\n",
    "\n",
    "weight_tumor_df=pd.DataFrame({'Weight': weight_max, 'Volume': volume_mean})\n",
    "weight_tumor_df\n",
    "\n",
    "\n",
    "x_values = weight_max\n",
    "y_values = volume_mean\n",
    "(slope, intercept, rvalue, pvalue, stderr) = linregress(x_values, y_values)\n",
    "regress_values = x_values * slope + intercept\n",
    "line_eq = \"y = \" + str(round(slope,2)) + \"x + \" + str(round(intercept,2))\n",
    "\n",
    "correlation = st.pearsonr(x_values,y_values)\n",
    "print(f\"The correlation between both factors is {round(correlation[0],2)}\")\n",
    "\n",
    "\n",
    "plt.scatter(x_values,y_values)\n",
    "plt.plot(x_values,regress_values,\"r-\")\n",
    "plt.annotate(line_eq,(6,10),fontsize=15,color=\"red\")\n",
    "plt.xlabel('Weight')\n",
    "plt.ylabel('Volume')\n",
    "plt.title('Linear Regression Model for Mouse Weight and Average Tumor Volume')\n",
    "plt.show()"
   ]
  },
  {
   "cell_type": "code",
   "execution_count": null,
   "metadata": {},
   "outputs": [],
   "source": []
  }
 ],
 "metadata": {
  "anaconda-cloud": {},
  "kernelspec": {
   "display_name": "Python 3",
   "language": "python",
   "name": "python3"
  },
  "language_info": {
   "codemirror_mode": {
    "name": "ipython",
    "version": 3
   },
   "file_extension": ".py",
   "mimetype": "text/x-python",
   "name": "python",
   "nbconvert_exporter": "python",
   "pygments_lexer": "ipython3",
   "version": "3.7.4"
  }
 },
 "nbformat": 4,
 "nbformat_minor": 2
}
